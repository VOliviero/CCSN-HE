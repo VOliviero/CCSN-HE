{
 "cells": [
  {
   "cell_type": "code",
   "execution_count": 12,
   "metadata": {},
   "outputs": [
    {
     "name": "stderr",
     "output_type": "stream",
     "text": [
      "<>:5: SyntaxWarning: invalid escape sequence '\\s'\n",
      "<>:5: SyntaxWarning: invalid escape sequence '\\s'\n",
      "C:\\Users\\veron\\AppData\\Local\\Temp\\ipykernel_11320\\117153451.py:5: SyntaxWarning: invalid escape sequence '\\s'\n",
      "  df = pd.read_csv(file_path, header=None, delimiter='\\s')\n",
      "C:\\Users\\veron\\AppData\\Local\\Temp\\ipykernel_11320\\117153451.py:5: ParserWarning: Falling back to the 'python' engine because the 'c' engine does not support regex separators (separators > 1 char and different from '\\s+' are interpreted as regex); you can avoid this warning by specifying engine='python'.\n",
      "  df = pd.read_csv(file_path, header=None, delimiter='\\s')\n"
     ]
    },
    {
     "ename": "",
     "evalue": "",
     "output_type": "error",
     "traceback": [
      "\u001b[1;31mThe Kernel crashed while executing code in the current cell or a previous cell. \n",
      "\u001b[1;31mPlease review the code in the cell(s) to identify a possible cause of the failure. \n",
      "\u001b[1;31mClick <a href='https://aka.ms/vscodeJupyterKernelCrash'>here</a> for more info. \n",
      "\u001b[1;31mView Jupyter <a href='command:jupyter.viewOutput'>log</a> for further details."
     ]
    }
   ],
   "source": [
    "import pandas as pd\n",
    "\n",
    "def leggi_e_dividi(file_path):\n",
    "    # Carica il file .dat\n",
    "    df = pd.read_csv(file_path, header=None, delimiter='\\s')\n",
    "\n",
    "    # Trova gli indici delle righe vuote\n",
    "    indici_righe_vuote = df.index[df.isnull().all(axis=1)].tolist()\n",
    "\n",
    "    # Dividi il dataframe in base alle righe vuote\n",
    "    sotto_tabelle = []\n",
    "    start_index = 0\n",
    "    for end_index in indici_righe_vuote:\n",
    "        sotto_tabella = df.iloc[start_index:end_index, [0, 7]]  # Seleziona la prima e l'ottava colonna\n",
    "        sotto_tabelle.append(sotto_tabella)\n",
    "        start_index = end_index + 1\n",
    "\n",
    "    # Aggiungi l'ultima sotto-tabella\n",
    "    sotto_tabella = df.iloc[start_index:, [0, 7]]\n",
    "    sotto_tabelle.append(sotto_tabella)\n",
    "\n",
    "    return sotto_tabelle\n",
    "\n",
    "# Utilizzo della funzione\n",
    "file_path = \"D:\\\\Università\\\\Dottorato\\\\M.DellaValle\\\\Progetto Supernova\\\\FinalFluxs20_IIn.dat\"\n",
    "sotto_tabelle = leggi_e_dividi(file_path)"
   ]
  },
  {
   "cell_type": "code",
   "execution_count": 9,
   "metadata": {},
   "outputs": [
    {
     "data": {
      "text/html": [
       "<div>\n",
       "<style scoped>\n",
       "    .dataframe tbody tr th:only-of-type {\n",
       "        vertical-align: middle;\n",
       "    }\n",
       "\n",
       "    .dataframe tbody tr th {\n",
       "        vertical-align: top;\n",
       "    }\n",
       "\n",
       "    .dataframe thead th {\n",
       "        text-align: right;\n",
       "    }\n",
       "</style>\n",
       "<table border=\"1\" class=\"dataframe\">\n",
       "  <thead>\n",
       "    <tr style=\"text-align: right;\">\n",
       "      <th></th>\n",
       "      <th>0</th>\n",
       "      <th>7</th>\n",
       "    </tr>\n",
       "  </thead>\n",
       "  <tbody>\n",
       "    <tr>\n",
       "      <th>0</th>\n",
       "      <td>1.074610e-07</td>\n",
       "      <td>0.000000e+00</td>\n",
       "    </tr>\n",
       "    <tr>\n",
       "      <th>1</th>\n",
       "      <td>1.240940e-07</td>\n",
       "      <td>0.000000e+00</td>\n",
       "    </tr>\n",
       "    <tr>\n",
       "      <th>2</th>\n",
       "      <td>1.433010e-07</td>\n",
       "      <td>0.000000e+00</td>\n",
       "    </tr>\n",
       "    <tr>\n",
       "      <th>3</th>\n",
       "      <td>1.654820e-07</td>\n",
       "      <td>0.000000e+00</td>\n",
       "    </tr>\n",
       "    <tr>\n",
       "      <th>4</th>\n",
       "      <td>1.910950e-07</td>\n",
       "      <td>0.000000e+00</td>\n",
       "    </tr>\n",
       "    <tr>\n",
       "      <th>...</th>\n",
       "      <td>...</td>\n",
       "      <td>...</td>\n",
       "    </tr>\n",
       "    <tr>\n",
       "      <th>11899</th>\n",
       "      <td>5.232990e+16</td>\n",
       "      <td>2.066200e-12</td>\n",
       "    </tr>\n",
       "    <tr>\n",
       "      <th>11900</th>\n",
       "      <td>6.042960e+16</td>\n",
       "      <td>2.522930e-13</td>\n",
       "    </tr>\n",
       "    <tr>\n",
       "      <th>11901</th>\n",
       "      <td>6.978310e+16</td>\n",
       "      <td>4.896000e-14</td>\n",
       "    </tr>\n",
       "    <tr>\n",
       "      <th>11902</th>\n",
       "      <td>8.058420e+16</td>\n",
       "      <td>5.833810e-15</td>\n",
       "    </tr>\n",
       "    <tr>\n",
       "      <th>11903</th>\n",
       "      <td>9.305720e+16</td>\n",
       "      <td>0.000000e+00</td>\n",
       "    </tr>\n",
       "  </tbody>\n",
       "</table>\n",
       "<p>11904 rows × 2 columns</p>\n",
       "</div>"
      ],
      "text/plain": [
       "                  0             7\n",
       "0      1.074610e-07  0.000000e+00\n",
       "1      1.240940e-07  0.000000e+00\n",
       "2      1.433010e-07  0.000000e+00\n",
       "3      1.654820e-07  0.000000e+00\n",
       "4      1.910950e-07  0.000000e+00\n",
       "...             ...           ...\n",
       "11899  5.232990e+16  2.066200e-12\n",
       "11900  6.042960e+16  2.522930e-13\n",
       "11901  6.978310e+16  4.896000e-14\n",
       "11902  8.058420e+16  5.833810e-15\n",
       "11903  9.305720e+16  0.000000e+00\n",
       "\n",
       "[11904 rows x 2 columns]"
      ]
     },
     "execution_count": 9,
     "metadata": {},
     "output_type": "execute_result"
    }
   ],
   "source": [
    "sotto_tabelle[0]"
   ]
  }
 ],
 "metadata": {
  "kernelspec": {
   "display_name": "Python 3",
   "language": "python",
   "name": "python3"
  },
  "language_info": {
   "codemirror_mode": {
    "name": "ipython",
    "version": 3
   },
   "file_extension": ".py",
   "mimetype": "text/x-python",
   "name": "python",
   "nbconvert_exporter": "python",
   "pygments_lexer": "ipython3",
   "version": "3.12.2"
  }
 },
 "nbformat": 4,
 "nbformat_minor": 2
}
